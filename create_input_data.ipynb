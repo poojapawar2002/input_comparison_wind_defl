{
 "cells": [
  {
   "cell_type": "code",
   "execution_count": 11,
   "id": "12e87a16-6196-44c2-a286-b24f34f16ac7",
   "metadata": {},
   "outputs": [
    {
     "name": "stdout",
     "output_type": "stream",
     "text": [
      "Combined file saved to: final_inputs\\combined_output_merged_input_nanremoved.csv\n"
     ]
    }
   ],
   "source": [
    "import pandas as pd\n",
    "import os\n",
    "\n",
    "# Folder containing your CSV files\n",
    "folder_path = 'final_inputs'  # change this to your actual path\n",
    "\n",
    "# List to hold all dataframes\n",
    "all_dfs = []\n",
    "\n",
    "# Loop through all files in the folder\n",
    "for filename in os.listdir(folder_path):\n",
    "    if filename.endswith('.csv'):\n",
    "        file_path = os.path.join(folder_path, filename)\n",
    "        df = pd.read_csv(file_path)\n",
    "        all_dfs.append(df)\n",
    "\n",
    "# Concatenate all dataframes\n",
    "combined_df = pd.concat(all_dfs, ignore_index=True)\n",
    "\n",
    "# Save to a single CSV file\n",
    "output_path = os.path.join(folder_path, 'combined_output_merged_input_nanremoved.csv')\n",
    "combined_df.to_csv(output_path, index=False)\n",
    "\n",
    "print(f\"Combined file saved to: {output_path}\")\n"
   ]
  },
  {
   "cell_type": "code",
   "execution_count": 15,
   "id": "610a5d5e-6d38-400c-93d9-fc584020db50",
   "metadata": {},
   "outputs": [],
   "source": [
    "import pandas as pd"
   ]
  },
  {
   "cell_type": "code",
   "execution_count": 16,
   "id": "cf45a863-8ca0-4b6f-a63f-70fc4464c19a",
   "metadata": {},
   "outputs": [],
   "source": [
    "df = pd.read_csv(\"combined_output_merged_input_nanremoved.csv\")"
   ]
  },
  {
   "cell_type": "code",
   "execution_count": 18,
   "id": "ae47667b-b595-49fa-9a26-d9e9c9a3dd92",
   "metadata": {},
   "outputs": [],
   "source": [
    "df.loc[df['IMO'] == 1007, 'IMO'] = 9967419"
   ]
  },
  {
   "cell_type": "code",
   "execution_count": 19,
   "id": "bfa865cf-cfd2-4b40-aa39-f6b4c6aa4120",
   "metadata": {},
   "outputs": [
    {
     "data": {
      "text/plain": [
       "array([9967524, 9967419, 9967483, 9967495, 9967445, 9967536, 9967433,\n",
       "       9967469], dtype=int64)"
      ]
     },
     "execution_count": 19,
     "metadata": {},
     "output_type": "execute_result"
    }
   ],
   "source": [
    "df.IMO.unique()"
   ]
  },
  {
   "cell_type": "code",
   "execution_count": 20,
   "id": "7836aad3-3775-4e60-8baf-634839a53905",
   "metadata": {},
   "outputs": [],
   "source": [
    "df.to_csv(\"combined_output_merged_input_nanremoved.csv\", index=False)"
   ]
  },
  {
   "cell_type": "code",
   "execution_count": 21,
   "id": "fad7948e-7529-4d05-a1a0-f9c57f6e6669",
   "metadata": {},
   "outputs": [
    {
     "data": {
      "text/plain": [
       "(224962, 78)"
      ]
     },
     "execution_count": 21,
     "metadata": {},
     "output_type": "execute_result"
    }
   ],
   "source": [
    "df.shape"
   ]
  },
  {
   "cell_type": "code",
   "execution_count": 22,
   "id": "2a0428ab-2cbb-4c48-818a-6827bdb185ae",
   "metadata": {},
   "outputs": [],
   "source": [
    "wind_df = pd.read_csv(\"merged_ref_output_input_nanremoved_with_rel_wind_dir.csv\")"
   ]
  },
  {
   "cell_type": "code",
   "execution_count": 23,
   "id": "7703284a-8fda-404d-b215-1e156eccb5a3",
   "metadata": {},
   "outputs": [
    {
     "data": {
      "text/plain": [
       "(224962, 19)"
      ]
     },
     "execution_count": 23,
     "metadata": {},
     "output_type": "execute_result"
    }
   ],
   "source": [
    "wind_df.shape"
   ]
  },
  {
   "cell_type": "code",
   "execution_count": 39,
   "id": "93a7fb3a-d4e7-4c0e-8804-510abf7901e9",
   "metadata": {},
   "outputs": [
    {
     "name": "stdout",
     "output_type": "stream",
     "text": [
      "Columns are equal across all rows:\n"
     ]
    }
   ],
   "source": [
    "import pandas as pd\n",
    "\n",
    "# Example: select columns\n",
    "cols_df1 = ['SpeedOG', 'Heading', 'MeanDraft','WindDirection']\n",
    "cols_df2 = ['sog', 'ship_heading', 'mean_draft','wind_direction']\n",
    "\n",
    "# Ensure both dataframes have the same number of rows\n",
    "if df.shape[0] != wind_df.shape[0]:\n",
    "    print(\"DataFrames have different number of rows.\")\n",
    "    result = False\n",
    "else:\n",
    "    # Compare row by row\n",
    "    is_equal = (df[cols_df1].values == wind_df[cols_df2].values).all()\n",
    "    print(\"Columns are equal across all rows:\" if is_equal else \"Mismatch found.\")\n",
    "    result = is_equal\n"
   ]
  },
  {
   "cell_type": "code",
   "execution_count": 41,
   "id": "4bc31747-fef6-43bf-80af-7d5efe58bf3a",
   "metadata": {},
   "outputs": [],
   "source": [
    "df[\"RelativeWindDirection\"] = wind_df[\"relative_wind_direction\"]"
   ]
  },
  {
   "cell_type": "code",
   "execution_count": 42,
   "id": "fda33ebb-71a8-412c-b0f4-908d179a1b00",
   "metadata": {},
   "outputs": [],
   "source": [
    "df.to_csv(\"combined_output_merged_input_nanremoved.csv\", index=False)"
   ]
  },
  {
   "cell_type": "code",
   "execution_count": null,
   "id": "d394415e-becb-410d-b2ca-8fb7836c36b2",
   "metadata": {},
   "outputs": [],
   "source": []
  }
 ],
 "metadata": {
  "kernelspec": {
   "display_name": "Python 3 (ipykernel)",
   "language": "python",
   "name": "python3"
  },
  "language_info": {
   "codemirror_mode": {
    "name": "ipython",
    "version": 3
   },
   "file_extension": ".py",
   "mimetype": "text/x-python",
   "name": "python",
   "nbconvert_exporter": "python",
   "pygments_lexer": "ipython3",
   "version": "3.12.7"
  }
 },
 "nbformat": 4,
 "nbformat_minor": 5
}
