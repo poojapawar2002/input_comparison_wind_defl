{
 "cells": [
  {
   "cell_type": "code",
   "execution_count": 16,
   "id": "12e87a16-6196-44c2-a286-b24f34f16ac7",
   "metadata": {},
   "outputs": [
    {
     "name": "stdout",
     "output_type": "stream",
     "text": [
      "Combined file saved to: final_inputs\\combined_output_merged_input_nanremoved.csv\n"
     ]
    }
   ],
   "source": [
    "import pandas as pd\n",
    "import os\n",
    "\n",
    "# Folder containing your CSV files\n",
    "folder_path = 'final_inputs'  # change this to your actual path\n",
    "\n",
    "# List to hold all dataframes\n",
    "all_dfs = []\n",
    "\n",
    "# Loop through all files in the folder\n",
    "for filename in os.listdir(folder_path):\n",
    "    if filename.endswith('.csv'):\n",
    "        file_path = os.path.join(folder_path, filename)\n",
    "        df = pd.read_csv(file_path)\n",
    "        all_dfs.append(df)\n",
    "\n",
    "# Concatenate all dataframes\n",
    "combined_df = pd.concat(all_dfs, ignore_index=True)\n",
    "\n",
    "# Save to a single CSV file\n",
    "output_path = os.path.join(folder_path, 'combined_output_merged_input_nanremoved.csv')\n",
    "combined_df.to_csv(output_path, index=False)\n",
    "\n",
    "print(f\"Combined file saved to: {output_path}\")\n"
   ]
  },
  {
   "cell_type": "code",
   "execution_count": 17,
   "id": "610a5d5e-6d38-400c-93d9-fc584020db50",
   "metadata": {},
   "outputs": [],
   "source": [
    "import pandas as pd"
   ]
  },
  {
   "cell_type": "code",
   "execution_count": 18,
   "id": "cf45a863-8ca0-4b6f-a63f-70fc4464c19a",
   "metadata": {},
   "outputs": [],
   "source": [
    "df = pd.read_csv(\"final_inputs/combined_output_merged_input_nanremoved.csv\")"
   ]
  },
  {
   "cell_type": "code",
   "execution_count": 19,
   "id": "ae47667b-b595-49fa-9a26-d9e9c9a3dd92",
   "metadata": {},
   "outputs": [],
   "source": [
    "df.loc[df['IMO'] == 1007, 'IMO'] = 9967419"
   ]
  },
  {
   "cell_type": "code",
   "execution_count": 20,
   "id": "bfa865cf-cfd2-4b40-aa39-f6b4c6aa4120",
   "metadata": {},
   "outputs": [
    {
     "data": {
      "text/plain": [
       "array([9967524, 9967419, 9967483, 9967495, 9967445, 9967536, 9967433,\n",
       "       9967469], dtype=int64)"
      ]
     },
     "execution_count": 20,
     "metadata": {},
     "output_type": "execute_result"
    }
   ],
   "source": [
    "df.IMO.unique()"
   ]
  },
  {
   "cell_type": "code",
   "execution_count": 21,
   "id": "7836aad3-3775-4e60-8baf-634839a53905",
   "metadata": {},
   "outputs": [],
   "source": [
    "# df.to_csv(\"combined_output_merged_input_nanremoved.csv\", index=False)"
   ]
  },
  {
   "cell_type": "code",
   "execution_count": 22,
   "id": "fad7948e-7529-4d05-a1a0-f9c57f6e6669",
   "metadata": {},
   "outputs": [
    {
     "data": {
      "text/plain": [
       "(224962, 78)"
      ]
     },
     "execution_count": 22,
     "metadata": {},
     "output_type": "execute_result"
    }
   ],
   "source": [
    "df.shape"
   ]
  },
  {
   "cell_type": "code",
   "execution_count": 23,
   "id": "2a0428ab-2cbb-4c48-818a-6827bdb185ae",
   "metadata": {},
   "outputs": [],
   "source": [
    "wind_df = pd.read_csv(\"merged_ref_output_input_nanremoved_with_rel_wind_dir.csv\")"
   ]
  },
  {
   "cell_type": "code",
   "execution_count": 24,
   "id": "7703284a-8fda-404d-b215-1e156eccb5a3",
   "metadata": {},
   "outputs": [
    {
     "data": {
      "text/plain": [
       "(224962, 19)"
      ]
     },
     "execution_count": 24,
     "metadata": {},
     "output_type": "execute_result"
    }
   ],
   "source": [
    "wind_df.shape"
   ]
  },
  {
   "cell_type": "code",
   "execution_count": 25,
   "id": "93a7fb3a-d4e7-4c0e-8804-510abf7901e9",
   "metadata": {},
   "outputs": [
    {
     "name": "stdout",
     "output_type": "stream",
     "text": [
      "Columns are equal across all rows:\n"
     ]
    }
   ],
   "source": [
    "import pandas as pd\n",
    "\n",
    "# Example: select columns\n",
    "cols_df1 = ['SpeedOG', 'Heading', 'MeanDraft','WindDirection']\n",
    "cols_df2 = ['sog', 'ship_heading', 'mean_draft','wind_direction']\n",
    "\n",
    "# Ensure both dataframes have the same number of rows\n",
    "if df.shape[0] != wind_df.shape[0]:\n",
    "    print(\"DataFrames have different number of rows.\")\n",
    "    result = False\n",
    "else:\n",
    "    # Compare row by row\n",
    "    is_equal = (df[cols_df1].values == wind_df[cols_df2].values).all()\n",
    "    print(\"Columns are equal across all rows:\" if is_equal else \"Mismatch found.\")\n",
    "    result = is_equal"
   ]
  },
  {
   "cell_type": "code",
   "execution_count": 28,
   "id": "4bc31747-fef6-43bf-80af-7d5efe58bf3a",
   "metadata": {},
   "outputs": [],
   "source": [
    "df = df.reset_index(drop=True)\n",
    "wind_df = wind_df.reset_index(drop=True)\n",
    "df[\"RelativeWindDirection\"] = wind_df[\"relative_wind_direction\"]"
   ]
  },
  {
   "cell_type": "code",
   "execution_count": 29,
   "id": "54ac6b2c-d1a8-4244-95de-3305e9d25717",
   "metadata": {},
   "outputs": [],
   "source": [
    "wind_new = df.drop_duplicates()"
   ]
  },
  {
   "cell_type": "code",
   "execution_count": 30,
   "id": "7bd1d2d0-e65b-46c8-b07b-e433c647b4f4",
   "metadata": {},
   "outputs": [
    {
     "data": {
      "text/plain": [
       "(112481, 79)"
      ]
     },
     "execution_count": 30,
     "metadata": {},
     "output_type": "execute_result"
    }
   ],
   "source": [
    "wind_new.shape"
   ]
  },
  {
   "cell_type": "code",
   "execution_count": 31,
   "id": "fda33ebb-71a8-412c-b0f4-908d179a1b00",
   "metadata": {},
   "outputs": [],
   "source": [
    "wind_new.to_csv(\"combined_output_merged_input_nanremoved.csv\", index=False)"
   ]
  },
  {
   "cell_type": "code",
   "execution_count": 27,
   "id": "d394415e-becb-410d-b2ca-8fb7836c36b2",
   "metadata": {},
   "outputs": [
    {
     "name": "stdout",
     "output_type": "stream",
     "text": [
      "🔍 DETAILED MISMATCH ANALYSIS\n",
      "==================================================\n",
      "📊 Comparing 224962 rows across 1 columns...\n",
      "✅ All rows match perfectly!\n"
     ]
    }
   ],
   "source": [
    "import pandas as pd\n",
    "import numpy as np\n",
    "\n",
    "# Your original columns\n",
    "cols_df1 = [\"RelativeWindDirection\"] #['SpeedOG', 'Heading', 'MeanDraft']\n",
    "cols_df2 = [\"relative_wind_direction\"] #['sog', 'ship_heading', 'mean_draft']\n",
    "def find_mismatch_rows(df1, df2, cols1, cols2, tolerance=0):\n",
    "    \"\"\"\n",
    "    Find rows where DataFrames don't match and show detailed comparison\n",
    "    \n",
    "    Parameters:\n",
    "    df1, df2: DataFrames to compare\n",
    "    cols1, cols2: Column lists for each DataFrame\n",
    "    tolerance: Tolerance for floating point comparison\n",
    "    \n",
    "    Returns:\n",
    "    Dictionary with mismatch information\n",
    "    \"\"\"\n",
    "    \n",
    "    # Check if DataFrames have same number of rows\n",
    "    if df1.shape[0] != df2.shape[0]:\n",
    "        print(f\"❌ DataFrames have different number of rows: {df1.shape[0]} vs {df2.shape[0]}\")\n",
    "        return {'different_row_count': True}\n",
    "    \n",
    "    print(f\"📊 Comparing {df1.shape[0]} rows across {len(cols1)} columns...\")\n",
    "    \n",
    "    # Get the data for comparison\n",
    "    data1 = df1[cols1].values\n",
    "    data2 = df2[cols2].values\n",
    "    \n",
    "    # For floating point comparison, use numpy's allclose with tolerance\n",
    "    # This handles small floating point differences\n",
    "    matches = np.isclose(data1, data2, rtol=tolerance, atol=tolerance, equal_nan=True)\n",
    "    \n",
    "    # Find rows where ANY column doesn't match\n",
    "    mismatch_rows = ~matches.all(axis=1)\n",
    "    mismatch_indices = np.where(mismatch_rows)[0]\n",
    "    \n",
    "    if len(mismatch_indices) == 0:\n",
    "        print(\"✅ All rows match perfectly!\")\n",
    "        return {'all_match': True}\n",
    "    \n",
    "    print(f\"❌ Found {len(mismatch_indices)} mismatched rows\")\n",
    "    print(f\"📍 Mismatch row indices: {mismatch_indices[:10]}{'...' if len(mismatch_indices) > 10 else ''}\")\n",
    "    \n",
    "    # Detailed analysis of mismatches\n",
    "    mismatch_details = []\n",
    "    \n",
    "    for i, row_idx in enumerate(mismatch_indices[:10]):  # Show first 10 mismatches\n",
    "        row_detail = {\n",
    "            'row_index': row_idx,\n",
    "            'df1_values': {},\n",
    "            'df2_values': {},\n",
    "            'mismatched_columns': []\n",
    "        }\n",
    "        \n",
    "        print(f\"\\n🔍 ROW {row_idx} MISMATCH:\")\n",
    "        print(\"=\"*60)\n",
    "        \n",
    "        for col_idx, (col1, col2) in enumerate(zip(cols1, cols2)):\n",
    "            val1 = data1[row_idx, col_idx]\n",
    "            val2 = data2[row_idx, col_idx]\n",
    "            \n",
    "            row_detail['df1_values'][col1] = val1\n",
    "            row_detail['df2_values'][col2] = val2\n",
    "            \n",
    "            # Check if this specific column mismatches\n",
    "            if not np.isclose(val1, val2, rtol=tolerance, atol=tolerance, equal_nan=True):\n",
    "                row_detail['mismatched_columns'].append((col1, col2))\n",
    "                print(f\"  ❌ {col1:15} | {col2:15} | {val1:15} ≠ {val2:15} | Diff: {abs(val1-val2):.10f}\")\n",
    "            else:\n",
    "                print(f\"  ✅ {col1:15} | {col2:15} | {val1:15} = {val2:15}\")\n",
    "        \n",
    "        mismatch_details.append(row_detail)\n",
    "    \n",
    "    return {\n",
    "        'mismatch_count': len(mismatch_indices),\n",
    "        'mismatch_indices': mismatch_indices,\n",
    "        'mismatch_details': mismatch_details,\n",
    "        'total_rows': df1.shape[0]\n",
    "    }\n",
    "\n",
    "\n",
    "\n",
    "# Method 1: Detailed mismatch analysis\n",
    "print(\"🔍 DETAILED MISMATCH ANALYSIS\")\n",
    "print(\"=\"*50)\n",
    "result = find_mismatch_rows(df, wind_df, cols_df1, cols_df2)"
   ]
  },
  {
   "cell_type": "code",
   "execution_count": null,
   "id": "8876be95-82ea-476b-be35-f9f5b1cb02c8",
   "metadata": {},
   "outputs": [],
   "source": []
  }
 ],
 "metadata": {
  "kernelspec": {
   "display_name": "Python 3 (ipykernel)",
   "language": "python",
   "name": "python3"
  },
  "language_info": {
   "codemirror_mode": {
    "name": "ipython",
    "version": 3
   },
   "file_extension": ".py",
   "mimetype": "text/x-python",
   "name": "python",
   "nbconvert_exporter": "python",
   "pygments_lexer": "ipython3",
   "version": "3.12.7"
  }
 },
 "nbformat": 4,
 "nbformat_minor": 5
}
